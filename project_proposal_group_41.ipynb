{
 "cells": [
  {
   "cell_type": "markdown",
   "id": "9efa59f2-ba94-4cdf-b6d9-83e77de80a1f",
   "metadata": {},
   "source": [
    "title  "
   ]
  }
 ],
 "metadata": {
  "kernelspec": {
   "display_name": "R",
   "language": "R",
   "name": "ir"
  },
  "language_info": {
   "codemirror_mode": "r",
   "file_extension": ".r",
   "mimetype": "text/x-r-source",
   "name": "R",
   "pygments_lexer": "r",
   "version": "4.3.1"
  }
 },
 "nbformat": 4,
 "nbformat_minor": 5
}
