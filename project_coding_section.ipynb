{
 "cells": [
  {
   "cell_type": "code",
   "execution_count": 21,
   "id": "beb2102a-fdd1-4e07-ae80-e2ef0fc5054b",
   "metadata": {},
   "outputs": [
    {
     "name": "stderr",
     "output_type": "stream",
     "text": [
      "\u001b[1mRows: \u001b[22m\u001b[34m100000\u001b[39m \u001b[1mColumns: \u001b[22m\u001b[34m9\u001b[39m\n",
      "\u001b[36m──\u001b[39m \u001b[1mColumn specification\u001b[22m \u001b[36m────────────────────────────────────────────────────────\u001b[39m\n",
      "\u001b[1mDelimiter:\u001b[22m \",\"\n",
      "\u001b[31mchr\u001b[39m (2): gender, smoking_history\n",
      "\u001b[32mdbl\u001b[39m (7): age, hypertension, heart_disease, bmi, HbA1c_level, blood_glucose_l...\n",
      "\n",
      "\u001b[36mℹ\u001b[39m Use `spec()` to retrieve the full column specification for this data.\n",
      "\u001b[36mℹ\u001b[39m Specify the column types or set `show_col_types = FALSE` to quiet this message.\n"
     ]
    },
    {
     "name": "stdout",
     "output_type": "stream",
     "text": [
      "Rows: 75,000\n",
      "Columns: 9\n",
      "$ gender              \u001b[3m\u001b[90m<chr>\u001b[39m\u001b[23m \"Female\", \"Female\", \"Male\", \"Female\", \"Female\", \"M…\n",
      "$ age                 \u001b[3m\u001b[90m<dbl>\u001b[39m\u001b[23m 54, 36, 76, 20, 79, 42, 53, 54, 78, 67, 76, 78, 15…\n",
      "$ hypertension        \u001b[3m\u001b[90m<dbl>\u001b[39m\u001b[23m 0, 0, 1, 0, 0, 0, 0, 0, 0, 0, 0, 0, 0, 0, 0, 0, 0,…\n",
      "$ heart_disease       \u001b[3m\u001b[90m<dbl>\u001b[39m\u001b[23m 0, 0, 1, 0, 0, 0, 0, 0, 0, 0, 0, 0, 0, 0, 0, 0, 0,…\n",
      "$ smoking_history     \u001b[3m\u001b[90m<chr>\u001b[39m\u001b[23m \"No Info\", \"current\", \"current\", \"never\", \"No Info…\n",
      "$ bmi                 \u001b[3m\u001b[90m<dbl>\u001b[39m\u001b[23m 27.32, 23.45, 20.14, 27.32, 23.86, 33.64, 27.32, 5…\n",
      "$ HbA1c_level         \u001b[3m\u001b[90m<dbl>\u001b[39m\u001b[23m 6.6, 5.0, 4.8, 6.6, 5.7, 4.8, 6.1, 6.0, 5.0, 5.8, …\n",
      "$ blood_glucose_level \u001b[3m\u001b[90m<dbl>\u001b[39m\u001b[23m 80, 155, 155, 85, 85, 145, 85, 100, 130, 200, 160,…\n",
      "$ diabetes            \u001b[3m\u001b[90m<fct>\u001b[39m\u001b[23m 0, 0, 0, 0, 0, 0, 0, 0, 0, 0, 0, 0, 0, 0, 0, 0, 0,…\n"
     ]
    },
    {
     "data": {
      "text/html": [
       "<table class=\"dataframe\">\n",
       "<caption>A tibble: 2 × 2</caption>\n",
       "<thead>\n",
       "\t<tr><th scope=col>diabetes</th><th scope=col>Count</th></tr>\n",
       "\t<tr><th scope=col>&lt;fct&gt;</th><th scope=col>&lt;int&gt;</th></tr>\n",
       "</thead>\n",
       "<tbody>\n",
       "\t<tr><td>0</td><td>68688</td></tr>\n",
       "\t<tr><td>1</td><td> 6312</td></tr>\n",
       "</tbody>\n",
       "</table>\n"
      ],
      "text/latex": [
       "A tibble: 2 × 2\n",
       "\\begin{tabular}{ll}\n",
       " diabetes & Count\\\\\n",
       " <fct> & <int>\\\\\n",
       "\\hline\n",
       "\t 0 & 68688\\\\\n",
       "\t 1 &  6312\\\\\n",
       "\\end{tabular}\n"
      ],
      "text/markdown": [
       "\n",
       "A tibble: 2 × 2\n",
       "\n",
       "| diabetes &lt;fct&gt; | Count &lt;int&gt; |\n",
       "|---|---|\n",
       "| 0 | 68688 |\n",
       "| 1 |  6312 |\n",
       "\n"
      ],
      "text/plain": [
       "  diabetes Count\n",
       "1 0        68688\n",
       "2 1         6312"
      ]
     },
     "metadata": {},
     "output_type": "display_data"
    },
    {
     "data": {
      "text/html": [
       "<table class=\"dataframe\">\n",
       "<caption>A tibble: 1 × 3</caption>\n",
       "<thead>\n",
       "\t<tr><th scope=col>mean_bmi</th><th scope=col>mean_age</th><th scope=col>mean_blood_glucose_level</th></tr>\n",
       "\t<tr><th scope=col>&lt;dbl&gt;</th><th scope=col>&lt;dbl&gt;</th><th scope=col>&lt;dbl&gt;</th></tr>\n",
       "</thead>\n",
       "<tbody>\n",
       "\t<tr><td>27.3311</td><td>41.89038</td><td>137.9643</td></tr>\n",
       "</tbody>\n",
       "</table>\n"
      ],
      "text/latex": [
       "A tibble: 1 × 3\n",
       "\\begin{tabular}{lll}\n",
       " mean\\_bmi & mean\\_age & mean\\_blood\\_glucose\\_level\\\\\n",
       " <dbl> & <dbl> & <dbl>\\\\\n",
       "\\hline\n",
       "\t 27.3311 & 41.89038 & 137.9643\\\\\n",
       "\\end{tabular}\n"
      ],
      "text/markdown": [
       "\n",
       "A tibble: 1 × 3\n",
       "\n",
       "| mean_bmi &lt;dbl&gt; | mean_age &lt;dbl&gt; | mean_blood_glucose_level &lt;dbl&gt; |\n",
       "|---|---|---|\n",
       "| 27.3311 | 41.89038 | 137.9643 |\n",
       "\n"
      ],
      "text/plain": [
       "  mean_bmi mean_age mean_blood_glucose_level\n",
       "1 27.3311  41.89038 137.9643                "
      ]
     },
     "metadata": {},
     "output_type": "display_data"
    },
    {
     "name": "stdout",
     "output_type": "stream",
     "text": [
      "\u001b[90m# A tibble: 0 × 9\u001b[39m\n",
      "\u001b[90m# ℹ 9 variables: gender <chr>, age <dbl>, hypertension <dbl>,\u001b[39m\n",
      "\u001b[90m#   heart_disease <dbl>, smoking_history <chr>, bmi <dbl>, HbA1c_level <dbl>,\u001b[39m\n",
      "\u001b[90m#   blood_glucose_level <dbl>, diabetes <fct>\u001b[39m\n",
      "[1] 0\n"
     ]
    }
   ],
   "source": [
    "library(tidyverse)\n",
    "library(tidymodels)\n",
    "library(dplyr)\n",
    "\n",
    "\n",
    "url <- \"https://raw.githubusercontent.com/danialtaj0/Dataset/main/diabetes_prediction_dataset.csv\"\n",
    "diabetes_data <- read_csv(url) |>\n",
    "                 mutate(diabetes = as_factor(diabetes))\n",
    "\n",
    "set.seed(1)\n",
    "\n",
    "diabetes_split <- initial_split(diabetes_data, prop = 0.75, strata = diabetes)\n",
    "diabetes_train <- training(diabetes_split)\n",
    "diabetes_test <- testing(diabetes_split)\n",
    "glimpse(diabetes_train)\n",
    "\n",
    "class_distribution <- diabetes_train |>\n",
    "  group_by(diabetes) |>\n",
    "  summarise(Count = n())\n",
    "\n",
    "class_distribution\n",
    "\n",
    "predictor_means <- diabetes_train |>\n",
    "  summarise(\n",
    "    mean_bmi = mean(bmi, na.rm = TRUE),\n",
    "    mean_age = mean(age, na.rm = TRUE),\n",
    "    mean_blood_glucose_level = mean(blood_glucose_level, na.rm = TRUE)\n",
    "  )\n",
    "\n",
    "predictor_means\n",
    "\n",
    "# Filtering rows where there is missing data in any of the specified columns\n",
    "rows_with_missing_data <- diabetes_train |>\n",
    "  filter(is.na(bmi) | is.na(age) | is.na(blood_glucose_level) | is.na(diabetes))\n",
    "\n",
    "\n",
    "print(rows_with_missing_data)\n",
    "\n",
    "# Count the number of rows with missing data\n",
    "num_rows_with_missing_data <- nrow(rows_with_missing_data)\n",
    "\n",
    "# Print the count\n",
    "print(num_rows_with_missing_data)"
   ]
  },
  {
   "cell_type": "code",
   "execution_count": null,
   "id": "4b07f803-3652-407f-8406-d3de46096eb1",
   "metadata": {},
   "outputs": [],
   "source": []
  }
 ],
 "metadata": {
  "kernelspec": {
   "display_name": "R",
   "language": "R",
   "name": "ir"
  },
  "language_info": {
   "codemirror_mode": "r",
   "file_extension": ".r",
   "mimetype": "text/x-r-source",
   "name": "R",
   "pygments_lexer": "r",
   "version": "4.3.1"
  }
 },
 "nbformat": 4,
 "nbformat_minor": 5
}
