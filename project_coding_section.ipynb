{
 "cells": [
  {
   "cell_type": "code",
   "execution_count": 1,
   "id": "beb2102a-fdd1-4e07-ae80-e2ef0fc5054b",
   "metadata": {},
   "outputs": [
    {
     "name": "stderr",
     "output_type": "stream",
     "text": [
      "── \u001b[1mAttaching core tidyverse packages\u001b[22m ──────────────────────── tidyverse 2.0.0 ──\n",
      "\u001b[32m✔\u001b[39m \u001b[34mdplyr    \u001b[39m 1.1.3     \u001b[32m✔\u001b[39m \u001b[34mreadr    \u001b[39m 2.1.4\n",
      "\u001b[32m✔\u001b[39m \u001b[34mforcats  \u001b[39m 1.0.0     \u001b[32m✔\u001b[39m \u001b[34mstringr  \u001b[39m 1.5.0\n",
      "\u001b[32m✔\u001b[39m \u001b[34mggplot2  \u001b[39m 3.4.4     \u001b[32m✔\u001b[39m \u001b[34mtibble   \u001b[39m 3.2.1\n",
      "\u001b[32m✔\u001b[39m \u001b[34mlubridate\u001b[39m 1.9.3     \u001b[32m✔\u001b[39m \u001b[34mtidyr    \u001b[39m 1.3.0\n",
      "\u001b[32m✔\u001b[39m \u001b[34mpurrr    \u001b[39m 1.0.2     \n",
      "── \u001b[1mConflicts\u001b[22m ────────────────────────────────────────── tidyverse_conflicts() ──\n",
      "\u001b[31m✖\u001b[39m \u001b[34mdplyr\u001b[39m::\u001b[32mfilter()\u001b[39m masks \u001b[34mstats\u001b[39m::filter()\n",
      "\u001b[31m✖\u001b[39m \u001b[34mdplyr\u001b[39m::\u001b[32mlag()\u001b[39m    masks \u001b[34mstats\u001b[39m::lag()\n",
      "\u001b[36mℹ\u001b[39m Use the conflicted package (\u001b[3m\u001b[34m<http://conflicted.r-lib.org/>\u001b[39m\u001b[23m) to force all conflicts to become errors\n",
      "── \u001b[1mAttaching packages\u001b[22m ────────────────────────────────────── tidymodels 1.1.1 ──\n",
      "\n",
      "\u001b[32m✔\u001b[39m \u001b[34mbroom       \u001b[39m 1.0.5     \u001b[32m✔\u001b[39m \u001b[34mrsample     \u001b[39m 1.2.0\n",
      "\u001b[32m✔\u001b[39m \u001b[34mdials       \u001b[39m 1.2.0     \u001b[32m✔\u001b[39m \u001b[34mtune        \u001b[39m 1.1.2\n",
      "\u001b[32m✔\u001b[39m \u001b[34minfer       \u001b[39m 1.0.5     \u001b[32m✔\u001b[39m \u001b[34mworkflows   \u001b[39m 1.1.3\n",
      "\u001b[32m✔\u001b[39m \u001b[34mmodeldata   \u001b[39m 1.2.0     \u001b[32m✔\u001b[39m \u001b[34mworkflowsets\u001b[39m 1.0.1\n",
      "\u001b[32m✔\u001b[39m \u001b[34mparsnip     \u001b[39m 1.1.1     \u001b[32m✔\u001b[39m \u001b[34myardstick   \u001b[39m 1.2.0\n",
      "\u001b[32m✔\u001b[39m \u001b[34mrecipes     \u001b[39m 1.0.8     \n",
      "\n",
      "── \u001b[1mConflicts\u001b[22m ───────────────────────────────────────── tidymodels_conflicts() ──\n",
      "\u001b[31m✖\u001b[39m \u001b[34mscales\u001b[39m::\u001b[32mdiscard()\u001b[39m masks \u001b[34mpurrr\u001b[39m::discard()\n",
      "\u001b[31m✖\u001b[39m \u001b[34mdplyr\u001b[39m::\u001b[32mfilter()\u001b[39m   masks \u001b[34mstats\u001b[39m::filter()\n",
      "\u001b[31m✖\u001b[39m \u001b[34mrecipes\u001b[39m::\u001b[32mfixed()\u001b[39m  masks \u001b[34mstringr\u001b[39m::fixed()\n",
      "\u001b[31m✖\u001b[39m \u001b[34mdplyr\u001b[39m::\u001b[32mlag()\u001b[39m      masks \u001b[34mstats\u001b[39m::lag()\n",
      "\u001b[31m✖\u001b[39m \u001b[34myardstick\u001b[39m::\u001b[32mspec()\u001b[39m masks \u001b[34mreadr\u001b[39m::spec()\n",
      "\u001b[31m✖\u001b[39m \u001b[34mrecipes\u001b[39m::\u001b[32mstep()\u001b[39m   masks \u001b[34mstats\u001b[39m::step()\n",
      "\u001b[34m•\u001b[39m Dig deeper into tidy modeling with R at \u001b[32mhttps://www.tmwr.org\u001b[39m\n",
      "\n",
      "\u001b[1mRows: \u001b[22m\u001b[34m100000\u001b[39m \u001b[1mColumns: \u001b[22m\u001b[34m9\u001b[39m\n",
      "\u001b[36m──\u001b[39m \u001b[1mColumn specification\u001b[22m \u001b[36m────────────────────────────────────────────────────────\u001b[39m\n",
      "\u001b[1mDelimiter:\u001b[22m \",\"\n",
      "\u001b[31mchr\u001b[39m (2): gender, smoking_history\n",
      "\u001b[32mdbl\u001b[39m (7): age, hypertension, heart_disease, bmi, HbA1c_level, blood_glucose_l...\n",
      "\n",
      "\u001b[36mℹ\u001b[39m Use `spec()` to retrieve the full column specification for this data.\n",
      "\u001b[36mℹ\u001b[39m Specify the column types or set `show_col_types = FALSE` to quiet this message.\n"
     ]
    },
    {
     "name": "stdout",
     "output_type": "stream",
     "text": [
      "Rows: 75,000\n",
      "Columns: 9\n",
      "$ gender              \u001b[3m\u001b[90m<chr>\u001b[39m\u001b[23m \"Female\", \"Female\", \"Female\", \"Female\", \"Female\", …\n",
      "$ age                 \u001b[3m\u001b[90m<dbl>\u001b[39m\u001b[23m 80, 20, 44, 79, 32, 53, 54, 78, 67, 76, 78, 15, 42…\n",
      "$ hypertension        \u001b[3m\u001b[90m<dbl>\u001b[39m\u001b[23m 0, 0, 0, 0, 0, 0, 0, 0, 0, 0, 0, 0, 0, 0, 0, 0, 0,…\n",
      "$ heart_disease       \u001b[3m\u001b[90m<dbl>\u001b[39m\u001b[23m 1, 0, 0, 0, 0, 0, 0, 0, 0, 0, 0, 0, 0, 0, 0, 0, 0,…\n",
      "$ smoking_history     \u001b[3m\u001b[90m<chr>\u001b[39m\u001b[23m \"never\", \"never\", \"never\", \"No Info\", \"never\", \"ne…\n",
      "$ bmi                 \u001b[3m\u001b[90m<dbl>\u001b[39m\u001b[23m 25.19, 27.32, 19.31, 23.86, 27.32, 27.32, 54.70, 3…\n",
      "$ HbA1c_level         \u001b[3m\u001b[90m<dbl>\u001b[39m\u001b[23m 6.6, 6.6, 6.5, 5.7, 5.0, 6.1, 6.0, 5.0, 5.8, 5.0, …\n",
      "$ blood_glucose_level \u001b[3m\u001b[90m<dbl>\u001b[39m\u001b[23m 140, 85, 200, 85, 100, 85, 100, 130, 200, 160, 126…\n",
      "$ diabetes            \u001b[3m\u001b[90m<fct>\u001b[39m\u001b[23m 0, 0, 1, 0, 0, 0, 0, 0, 0, 0, 0, 0, 0, 0, 0, 0, 0,…\n"
     ]
    },
    {
     "data": {
      "text/html": [
       "<table class=\"dataframe\">\n",
       "<caption>A tibble: 2 × 2</caption>\n",
       "<thead>\n",
       "\t<tr><th scope=col>diabetes</th><th scope=col>Count</th></tr>\n",
       "\t<tr><th scope=col>&lt;fct&gt;</th><th scope=col>&lt;int&gt;</th></tr>\n",
       "</thead>\n",
       "<tbody>\n",
       "\t<tr><td>0</td><td>68653</td></tr>\n",
       "\t<tr><td>1</td><td> 6347</td></tr>\n",
       "</tbody>\n",
       "</table>\n"
      ],
      "text/latex": [
       "A tibble: 2 × 2\n",
       "\\begin{tabular}{ll}\n",
       " diabetes & Count\\\\\n",
       " <fct> & <int>\\\\\n",
       "\\hline\n",
       "\t 0 & 68653\\\\\n",
       "\t 1 &  6347\\\\\n",
       "\\end{tabular}\n"
      ],
      "text/markdown": [
       "\n",
       "A tibble: 2 × 2\n",
       "\n",
       "| diabetes &lt;fct&gt; | Count &lt;int&gt; |\n",
       "|---|---|\n",
       "| 0 | 68653 |\n",
       "| 1 |  6347 |\n",
       "\n"
      ],
      "text/plain": [
       "  diabetes Count\n",
       "1 0        68653\n",
       "2 1         6347"
      ]
     },
     "metadata": {},
     "output_type": "display_data"
    },
    {
     "data": {
      "text/html": [
       "<table class=\"dataframe\">\n",
       "<caption>A tibble: 1 × 3</caption>\n",
       "<thead>\n",
       "\t<tr><th scope=col>mean_bmi</th><th scope=col>mean_age</th><th scope=col>mean_blood_glucose_level</th></tr>\n",
       "\t<tr><th scope=col>&lt;dbl&gt;</th><th scope=col>&lt;dbl&gt;</th><th scope=col>&lt;dbl&gt;</th></tr>\n",
       "</thead>\n",
       "<tbody>\n",
       "\t<tr><td>27.30796</td><td>41.96079</td><td>138.1894</td></tr>\n",
       "</tbody>\n",
       "</table>\n"
      ],
      "text/latex": [
       "A tibble: 1 × 3\n",
       "\\begin{tabular}{lll}\n",
       " mean\\_bmi & mean\\_age & mean\\_blood\\_glucose\\_level\\\\\n",
       " <dbl> & <dbl> & <dbl>\\\\\n",
       "\\hline\n",
       "\t 27.30796 & 41.96079 & 138.1894\\\\\n",
       "\\end{tabular}\n"
      ],
      "text/markdown": [
       "\n",
       "A tibble: 1 × 3\n",
       "\n",
       "| mean_bmi &lt;dbl&gt; | mean_age &lt;dbl&gt; | mean_blood_glucose_level &lt;dbl&gt; |\n",
       "|---|---|---|\n",
       "| 27.30796 | 41.96079 | 138.1894 |\n",
       "\n"
      ],
      "text/plain": [
       "  mean_bmi mean_age mean_blood_glucose_level\n",
       "1 27.30796 41.96079 138.1894                "
      ]
     },
     "metadata": {},
     "output_type": "display_data"
    },
    {
     "name": "stdout",
     "output_type": "stream",
     "text": [
      "\u001b[90m# A tibble: 0 × 9\u001b[39m\n",
      "\u001b[90m# ℹ 9 variables: gender <chr>, age <dbl>, hypertension <dbl>,\u001b[39m\n",
      "\u001b[90m#   heart_disease <dbl>, smoking_history <chr>, bmi <dbl>, HbA1c_level <dbl>,\u001b[39m\n",
      "\u001b[90m#   blood_glucose_level <dbl>, diabetes <fct>\u001b[39m\n"
     ]
    }
   ],
   "source": [
    "library(tidyverse)\n",
    "library(tidymodels)\n",
    "library(dplyr)\n",
    "\n",
    "\n",
    "url <- \"https://raw.githubusercontent.com/danialtaj0/Dataset/main/diabetes_prediction_dataset.csv\"\n",
    "diabetes_data <- read_csv(url) |>\n",
    "                 mutate(diabetes = as_factor(diabetes))\n",
    "\n",
    "set.seed(1)\n",
    "\n",
    "diabetes_split <- initial_split(diabetes_data, prop = 0.75, strata = diabetes)\n",
    "diabetes_train <- training(diabetes_split)\n",
    "diabetes_test <- testing(diabetes_split)\n",
    "glimpse(diabetes_train)\n",
    "\n",
    "class_distribution <- diabetes_train |>\n",
    "  group_by(diabetes) |>\n",
    "  summarise(Count = n())\n",
    "\n",
    "class_distribution\n",
    "\n",
    "predictor_means <- diabetes_train |>\n",
    "  summarise(\n",
    "    mean_bmi = mean(bmi, na.rm = TRUE),\n",
    "    mean_age = mean(age, na.rm = TRUE),\n",
    "    mean_blood_glucose_level = mean(blood_glucose_level, na.rm = TRUE)\n",
    "  )\n",
    "\n",
    "predictor_means\n",
    "\n",
    "# Filtering rows where there is missing data in any of the specified columns\n",
    "rows_with_missing_data <- diabetes_train |>\n",
    "  filter(is.na(bmi) | is.na(age) | is.na(blood_glucose_level) | is.na(diabetes))\n",
    "\n",
    "\n",
    "print(rows_with_missing_data)\n",
    "\n",
    "# Count the number of rows with missing data\n",
    "num_rows_with_missing_data <- nrow(rows_with_missing_data)\n",
    "\n",
    "# Print the count\n",
    "missing_data <- tibble(n_rows_missing_data = num_rows_with_missing_data)"
   ]
  },
  {
   "cell_type": "code",
   "execution_count": null,
   "id": "4b07f803-3652-407f-8406-d3de46096eb1",
   "metadata": {},
   "outputs": [],
   "source": []
  }
 ],
 "metadata": {
  "kernelspec": {
   "display_name": "R",
   "language": "R",
   "name": "ir"
  },
  "language_info": {
   "codemirror_mode": "r",
   "file_extension": ".r",
   "mimetype": "text/x-r-source",
   "name": "R",
   "pygments_lexer": "r",
   "version": "4.3.1"
  }
 },
 "nbformat": 4,
 "nbformat_minor": 5
}
