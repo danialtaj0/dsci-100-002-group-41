{
 "cells": [
  {
   "cell_type": "markdown",
   "id": "dcb87008-33d1-4886-892b-2ed028f21998",
   "metadata": {},
   "source": [
    "**Predicting Presence of Diabetes with Age, BMI, and Blood Sugar Level**"
   ]
  },
  {
   "cell_type": "markdown",
   "id": "43ff4775-bc24-4679-81e7-6f562798c281",
   "metadata": {},
   "source": [
    "**Introduction:**\n",
    "\n",
    "\n",
    "Diabetes is a chronic disease that affects the body's ability to turn food into energy. Normally after consumption, glucose is released into the bloodstream causing the pancreas to release insulin. This provides a signal so that our cells can utilize the newly acquired blood sugar for energy. Diabetics, however, are unable to produce insulin or cannot utilize it effectively, leading to major health problems. Unfortunately, many people suffer from this health problem.  \n",
    "\n",
    "The risk of developing diabetes increases with age (DECODE-DECODA Study Group & International Diabetes Epidemiology Group, 2003; Mordarska & Godziejewska-Zawada, 2017) due to changes in the human body such as altered metabolism and insulin sensitivity. Higher BMI is often linked with an increased risk of type 2 diabetes (Abdullah et al., 2010; DECODE-DECODA Study Group & International Diabetes Epidemiology Group, 2003), as excess body fat can affect insulin resistance. Blood glucose level is also direct indicator of diabetes. Elevated levels may suggest problems with insulin use or production in the body. The explanation for each predictor highlights their major role in determining whether an individual has diabetes. Therefore, this project aims to answer the question: can diabetes in an individual be predicted accurately using their age, body mass index (BMI), and blood glucose level?  \n",
    "\n",
    "The diabetes prediction data set contains medical information about patients' diabetes status (positive or negative) and other pertinent health information. There are 9 columns (containing categorical and numerical data): age, gender, BMI, hypertension, heart disease, smoking history, HbA1c level, blood glucose level, and diabetes status. In total, there are 100,000 participants and thus 100,000 rows available. "
   ]
  },
  {
   "cell_type": "markdown",
   "id": "b69fb137-9a37-4ad7-acf6-b58a131a81ec",
   "metadata": {},
   "source": [
    "**Methods & Results**"
   ]
  },
  {
   "cell_type": "code",
   "execution_count": 1,
   "id": "6736c638-2939-4489-ba45-4864614c908a",
   "metadata": {},
   "outputs": [
    {
     "name": "stderr",
     "output_type": "stream",
     "text": [
      "also installing the dependencies ‘RANN’, ‘ROSE’\n",
      "\n",
      "\n",
      "Updating HTML index of packages in '.Library'\n",
      "\n",
      "Making 'packages.html' ...\n",
      " done\n",
      "\n"
     ]
    }
   ],
   "source": [
    "#installing themis package\n",
    "install.packages(\"themis\")"
   ]
  },
  {
   "cell_type": "code",
   "execution_count": 2,
   "id": "55b42412-197d-4d32-8e8b-303eb80585fe",
   "metadata": {},
   "outputs": [
    {
     "name": "stderr",
     "output_type": "stream",
     "text": [
      "Warning message:\n",
      "“package ‘ggplot2’ was built under R version 4.3.2”\n",
      "── \u001b[1mAttaching core tidyverse packages\u001b[22m ──────────────────────── tidyverse 2.0.0 ──\n",
      "\u001b[32m✔\u001b[39m \u001b[34mdplyr    \u001b[39m 1.1.3     \u001b[32m✔\u001b[39m \u001b[34mreadr    \u001b[39m 2.1.4\n",
      "\u001b[32m✔\u001b[39m \u001b[34mforcats  \u001b[39m 1.0.0     \u001b[32m✔\u001b[39m \u001b[34mstringr  \u001b[39m 1.5.0\n",
      "\u001b[32m✔\u001b[39m \u001b[34mggplot2  \u001b[39m 3.5.0     \u001b[32m✔\u001b[39m \u001b[34mtibble   \u001b[39m 3.2.1\n",
      "\u001b[32m✔\u001b[39m \u001b[34mlubridate\u001b[39m 1.9.2     \u001b[32m✔\u001b[39m \u001b[34mtidyr    \u001b[39m 1.3.0\n",
      "\u001b[32m✔\u001b[39m \u001b[34mpurrr    \u001b[39m 1.0.2     \n",
      "── \u001b[1mConflicts\u001b[22m ────────────────────────────────────────── tidyverse_conflicts() ──\n",
      "\u001b[31m✖\u001b[39m \u001b[34mdplyr\u001b[39m::\u001b[32mfilter()\u001b[39m masks \u001b[34mstats\u001b[39m::filter()\n",
      "\u001b[31m✖\u001b[39m \u001b[34mdplyr\u001b[39m::\u001b[32mlag()\u001b[39m    masks \u001b[34mstats\u001b[39m::lag()\n",
      "\u001b[36mℹ\u001b[39m Use the conflicted package (\u001b[3m\u001b[34m<http://conflicted.r-lib.org/>\u001b[39m\u001b[23m) to force all conflicts to become errors\n",
      "── \u001b[1mAttaching packages\u001b[22m ────────────────────────────────────── tidymodels 1.1.1 ──\n",
      "\n",
      "\u001b[32m✔\u001b[39m \u001b[34mbroom       \u001b[39m 1.0.5     \u001b[32m✔\u001b[39m \u001b[34mrsample     \u001b[39m 1.2.0\n",
      "\u001b[32m✔\u001b[39m \u001b[34mdials       \u001b[39m 1.2.0     \u001b[32m✔\u001b[39m \u001b[34mtune        \u001b[39m 1.1.2\n",
      "\u001b[32m✔\u001b[39m \u001b[34minfer       \u001b[39m 1.0.5     \u001b[32m✔\u001b[39m \u001b[34mworkflows   \u001b[39m 1.1.3\n",
      "\u001b[32m✔\u001b[39m \u001b[34mmodeldata   \u001b[39m 1.2.0     \u001b[32m✔\u001b[39m \u001b[34mworkflowsets\u001b[39m 1.0.1\n",
      "\u001b[32m✔\u001b[39m \u001b[34mparsnip     \u001b[39m 1.1.1     \u001b[32m✔\u001b[39m \u001b[34myardstick   \u001b[39m 1.2.0\n",
      "\u001b[32m✔\u001b[39m \u001b[34mrecipes     \u001b[39m 1.0.8     \n",
      "\n",
      "── \u001b[1mConflicts\u001b[22m ───────────────────────────────────────── tidymodels_conflicts() ──\n",
      "\u001b[31m✖\u001b[39m \u001b[34mscales\u001b[39m::\u001b[32mdiscard()\u001b[39m masks \u001b[34mpurrr\u001b[39m::discard()\n",
      "\u001b[31m✖\u001b[39m \u001b[34mdplyr\u001b[39m::\u001b[32mfilter()\u001b[39m   masks \u001b[34mstats\u001b[39m::filter()\n",
      "\u001b[31m✖\u001b[39m \u001b[34mrecipes\u001b[39m::\u001b[32mfixed()\u001b[39m  masks \u001b[34mstringr\u001b[39m::fixed()\n",
      "\u001b[31m✖\u001b[39m \u001b[34mdplyr\u001b[39m::\u001b[32mlag()\u001b[39m      masks \u001b[34mstats\u001b[39m::lag()\n",
      "\u001b[31m✖\u001b[39m \u001b[34myardstick\u001b[39m::\u001b[32mspec()\u001b[39m masks \u001b[34mreadr\u001b[39m::spec()\n",
      "\u001b[31m✖\u001b[39m \u001b[34mrecipes\u001b[39m::\u001b[32mstep()\u001b[39m   masks \u001b[34mstats\u001b[39m::step()\n",
      "\u001b[34m•\u001b[39m Search for functions across packages at \u001b[32mhttps://www.tidymodels.org/find/\u001b[39m\n",
      "\n"
     ]
    }
   ],
   "source": [
    "#loading packages\n",
    "library(tidyverse)\n",
    "library(tidymodels)\n",
    "library(dplyr)\n",
    "library(themis)"
   ]
  },
  {
   "cell_type": "markdown",
   "id": "02fa4eb3-447d-41ed-bb7f-353785ac7df0",
   "metadata": {},
   "source": [
    "The random seed is set to ensure that the analysis is reproducible. The dataset is then loaded  directly from an online source. Given that this analysis involves categorization, it is necessary to convert the 'diabetes' variable into a factor type. This variable originally contains the values 0 and 1, which are changed  to 'non-diabetic' and 'diabetic' respectively for better readability.  \n",
    "\n",
    "After preparing the data, it is split into two subsets: 75% of the data is used for training the  model, and the remaining 25% is used to test the model's prediction accuracy.  "
   ]
  },
  {
   "cell_type": "code",
   "execution_count": null,
   "id": "290ca367-27aa-4e88-b293-0f3ad5b5a107",
   "metadata": {},
   "outputs": [],
   "source": [
    "#set seed, loading dataset, and splitting into train and test sets\n",
    "\n",
    "set.seed(1)\n",
    "\n",
    "url <- \"https://raw.githubusercontent.com/danialtaj0/Dataset/main/diabetes_prediction_dataset.csv\"\n",
    "diabetes_data <- read_csv(url) |>\n",
    "                 mutate(diabetes = as_factor(diabetes)) |> \n",
    "                mutate(diabetes = fct_recode(diabetes, \"non-diabetic\" = \"0\", \"diabetic\" = \"1\"))\n",
    "diabetes_split <- initial_split(diabetes_data, prop = 0.75, strata = diabetes)\n",
    "diabetes_train <- training(diabetes_split) \n",
    "diabetes_test <- testing(diabetes_split)\n",
    "cat(\"Table 1: Diabetes Data Set\")\n",
    "head(diabetes_train)"
   ]
  },
  {
   "cell_type": "markdown",
   "id": "25fa89ca-577c-4ab7-9da8-17fa32b6cdc1",
   "metadata": {},
   "source": [
    "Table 2 displays the number of participants categorized as diabetics versus non-diabetics in our dataset for the purpose of evaluating class imbalance. An imbalanced dataset could result in a predictive model that frequently classifies patients as non-diabetic, leading to poor performance when identifying the minority class (diabetic). As this dataset contains a highly disproportionate number of non-diabetic individuals, it will be necessary to downscale this class before training the model.  \n",
    "\n",
    "The mean values of the selected predictors are tabulated in Table 3, and the dataset is examined for missing data (Table 4), which is crucial for ensuring accurate calculations in subsequent analyses.\n",
    "\n",
    "By understanding the data distribution, appropriate metrics for our model can be chosen, enhancing its accuracy in making predictions. Table 3 presents the average values of BMI, age, and blood glucose level for the training data. These averages are important for understanding the central tendency of our numerical variables, which aids us to spot outliers and understand the overall data distribution. "
   ]
  },
  {
   "cell_type": "code",
   "execution_count": null,
   "id": "4ae17267-41d5-4564-b377-364b358518d4",
   "metadata": {},
   "outputs": [],
   "source": [
    "class_distribution <- diabetes_train |>\n",
    "  group_by(diabetes) |>\n",
    "  summarise(Count = n())\n",
    "cat(\"Table 2: Distribution of Diabetic versus Non Diabetic Individuals\")\n",
    "class_distribution\n",
    "\n",
    "predictor_means <- diabetes_train |>\n",
    "  summarise(\n",
    "    mean_bmi = mean(bmi, na.rm = TRUE),\n",
    "    mean_age = mean(age, na.rm = TRUE),\n",
    "    mean_blood_glucose_level = mean(blood_glucose_level, na.rm = TRUE)\n",
    "  )\n",
    "cat(\"Table 3: Means of Predictor Variables\")\n",
    "predictor_means\n",
    "\n",
    "# Filtering rows where there is missing data in any of the specified columns\n",
    "rows_with_missing_data <- diabetes_train |>\n",
    "  filter(is.na(bmi) | is.na(age) | is.na(blood_glucose_level) | is.na(diabetes))\n",
    "\n",
    "# Count the number of rows with missing data\n",
    "num_rows_with_missing_data <- nrow(rows_with_missing_data)\n",
    "\n",
    "# Print the count\n",
    "missing_data <- tibble(n_rows_missing_data = num_rows_with_missing_data)\n",
    "cat(\"Table 4: Number of Rows with Missing Data\")\n",
    "missing_data"
   ]
  },
  {
   "cell_type": "markdown",
   "id": "616a28c7-d0b3-4d69-8d18-94cf573f7974",
   "metadata": {},
   "source": [
    "The histograms showing the distributions of the three predictor variables (Figures 1 - 3) demonstrate that they are not normally distributed. Additionally, the scales are vastly different between different variables. This means that it will be necessary to scale and centre them in order to produce accurate predictions. Additionally, Figures 1 to 3 also show that diabetes is more common in older people and those with high blood glucose levels, but appears to show little to no relationship with BMI. This suggests that some of our variables may more effectively predict diabetes than others.  \n",
    "\n",
    "The scatter plot (Figure 4) suggests a region for which the model is expected to produce \"diabetic\" predictions, as there is a cluster of diabetic data points with high age and high BMI. It also demonstrates that there are significantly more non-diabetic than diabetic data points, which means that the non-diabetic data points will need to be downscaled for the algorithm to produce accurate predictions. \n",
    "\n",
    "\n"
   ]
  },
  {
   "cell_type": "code",
   "execution_count": null,
   "id": "ae28a63b-dc0a-4591-8672-80e0954f2e9d",
   "metadata": {},
   "outputs": [],
   "source": [
    "#making histograms and scatterplot\n",
    "options(repr.plot.height = 5, repr.plot.width = 10)\n",
    "\n",
    "bmi_dist <- ggplot(diabetes_train, aes(x = bmi, fill = diabetes)) + \n",
    "    geom_histogram() + \n",
    "    theme(text = element_text(size = 12)) + \n",
    "    xlab(\"BMI\") + \n",
    "    ggtitle(\"Figure 1: Distribution of BMI\") \n",
    "\n",
    "blood_glucose_dist <- ggplot(diabetes_train, aes(x = blood_glucose_level, fill = diabetes)) + \n",
    "    geom_histogram() + \n",
    "    theme(text = element_text(size = 12)) + \n",
    "    xlab(\"Blood Glucose Level\") +\n",
    "    ggtitle(\"Figure 2: Distribution of Blood Glucose Level\")\n",
    "\n",
    "age_dist <- ggplot(diabetes_train, aes(x = age, fill = diabetes)) + \n",
    "    geom_histogram() + \n",
    "    theme(text = element_text(size = 12)) + \n",
    "    xlab(\"Age\") +\n",
    "    ggtitle(\"Figure 3: Distribution of Age\")\n",
    "\n",
    "age_bmi <- ggplot(diabetes_train, aes(x = age, y = bmi, color = diabetes, shape = diabetes)) + \n",
    "    geom_point(alpha = 0.4) + \n",
    "    theme(text = element_text(size = 12)) + \n",
    "    xlab(\"Age\") + \n",
    "    ylab(\"BMI\") + \n",
    "    ggtitle(\"Figure 4: Presence of Diabetes in Relation to Age and BMI\")\n",
    "\n",
    "bmi_dist\n",
    "blood_glucose_dist\n",
    "age_dist\n",
    "age_bmi"
   ]
  },
  {
   "cell_type": "markdown",
   "id": "5b0779a0-c30d-4ed3-9ad0-33b6f5de6f42",
   "metadata": {},
   "source": [
    "The training data is first downsampled to balance the class distribution, ensuring no bias towards the more frequently occurring non-diabetic class. A K-nearest neighbors (KNN) model is then configured with a 'rectangular' weight function and uses 5-fold cross-validation on the balanced dataset. This involves dividing the dataset into five parts, using each sequentially as a validation set while the others are used for training, which helps assess the model's performance across different data subsets. Various k values are tested, ranging from 1 to 100 in increments of 5, to find the one that achieves the highest validation accuracy, effectively selecting a k value that optimally balances bias and variance. The optimal k value is the value that yields the highest average accuracy across all folds, ensuring the model is accurately tuned for generalizable predictions."
   ]
  },
  {
   "cell_type": "code",
   "execution_count": null,
   "id": "271832c6-1c80-4c02-bbaa-b9d0a5699448",
   "metadata": {},
   "outputs": [],
   "source": [
    "#cross validation to find the optimal k value\n",
    "set.seed(1)\n",
    "\n",
    "#downsampling the training set\n",
    "downsample_recipe <- recipe(diabetes ~ bmi + age + blood_glucose_level, data = diabetes_train) |>\n",
    "    step_downsample(diabetes, under_ratio = 1, skip = FALSE) |> \n",
    "    prep() \n",
    "downsampled_diabetes_train <- bake(downsample_recipe, diabetes_train) \n",
    "\n",
    "#finding optimal k value \n",
    "diabetes_tune <- nearest_neighbor(weight_func = \"rectangular\", neighbors = tune()) |> \n",
    "    set_engine(\"kknn\") |> \n",
    "    set_mode(\"classification\") \n",
    "\n",
    "diabetes_recipe <- recipe(diabetes ~ bmi + age + blood_glucose_level, data = downsampled_diabetes_train) |>\n",
    "    step_scale(all_predictors()) |> \n",
    "    step_center(all_predictors()) \n",
    "\n",
    "diabetes_vfold <- vfold_cv(downsampled_diabetes_train, v = 5, strata = diabetes)\n",
    "k_vals = tibble(neighbors = seq(from = 1, to = 100, by = 5))\n",
    "\n",
    "cv_results <- workflow() |> \n",
    "    add_model(diabetes_tune) |> \n",
    "    add_recipe(diabetes_recipe) |> \n",
    "    tune_grid(resamples = diabetes_vfold, grid = k_vals) |> \n",
    "    collect_metrics() |> \n",
    "    filter(.metric == \"accuracy\") |> \n",
    "    select(neighbors, mean) \n",
    "\n",
    "#optimal k value\n",
    "\n",
    "best_k <- cv_results |> \n",
    "    arrange(desc(mean)) |> \n",
    "    head(1) |> \n",
    "    pull(neighbors)\n",
    "best_k"
   ]
  },
  {
   "cell_type": "markdown",
   "id": "9b609266-88be-4946-a67d-8e2937967d04",
   "metadata": {},
   "source": [
    "After identifying the best k value that maximizes accuracy, this k value is used in the `nearest_neighbor` function to set up the KNN classifier. Using the previously specified configuration, the model is assembled within a workflow, combining both the model specifications and the data preprocessing recipe. The model is then trained on the downsampled training dataset.  \n",
    "\n",
    "Next, the model's performance is evaluated on the test dataset. Predictions are made for the `diabetes_test` dataset, and these predictions are combined with the actual test data to facilitate further analysis. Accuracy, precision, and recall of the model are calculated and tabulated in Table 5 to assess the effectiveness of the model. These metrics provide a comprehensive understanding of how well the model predicts diabetes cases.  \n",
    "\n",
    "Additionally, a confusion matrix is generated from the predictions (Table 6). This matrix is crucial as it visually represents the accuracy of the model by showing the true positives, true negatives, false positives, and false negatives. This helps in further evaluating the model’s diagnostic ability in differentiating between diabetic and non-diabetic cases.ses."
   ]
  },
  {
   "cell_type": "code",
   "execution_count": null,
   "id": "7adbac67-8fdb-494e-9abc-1fafb4d3e06a",
   "metadata": {},
   "outputs": [],
   "source": [
    "set.seed(1)\n",
    "#classifier \n",
    "diabetes_spec <- nearest_neighbor(weight_func = \"rectangular\", neighbors = best_k) |> \n",
    "    set_engine(\"kknn\") |> \n",
    "    set_mode(\"classification\") \n",
    "diabetes_classifier <- workflow() |> \n",
    "    add_recipe(diabetes_recipe) |> \n",
    "    add_model(diabetes_spec) |> \n",
    "    fit(data = downsampled_diabetes_train) \n",
    "#applying classifier to test set\n",
    "predictions <- predict(diabetes_classifier, diabetes_test) |> \n",
    "    bind_cols(diabetes_test) \n",
    "\n",
    "#accuracy\n",
    "accuracy <- metrics(predictions, truth = diabetes, estimate = .pred_class) |> \n",
    "    filter(.metric == \"accuracy\") |> \n",
    "    select(.metric, .estimate)  |> \n",
    "    pivot_wider(names_from = .metric, values_from = .estimate) \n",
    "\n",
    "#recall\n",
    "recall <- predictions |> \n",
    "    recall(truth = diabetes, estimate = .pred_class, event_level = \"second\") |> \n",
    "    select(.metric, .estimate) |> \n",
    "    pivot_wider(names_from = .metric, values_from = .estimate) \n",
    "\n",
    "#precision\n",
    "precision <- predictions |> \n",
    "    precision(truth = diabetes, estimate = .pred_class, event_level = \"second\") |> \n",
    "    select(.metric, .estimate) |> \n",
    "    pivot_wider(names_from = .metric, values_from = .estimate) \n",
    "\n",
    "metrics_summary <- bind_cols(accuracy, recall, precision) \n",
    "cat(\"Table 5: Classifier Metrics\")\n",
    "metrics_summary\n",
    "#confusion matrix\n",
    "conf_mat <- conf_mat(predictions, truth = diabetes, estimate = .pred_class)\n",
    "cat(\"Table 6: Classifier Confusion Matrix\")\n",
    "conf_mat\n",
    "#bmi alone: accuracy 0.69, recall 0.62\n",
    "#age alone: accuracy 0.88, recall 0.13\n",
    "#blood glucose level alone: accuracy 0.95, recall 0.39"
   ]
  },
  {
   "cell_type": "markdown",
   "id": "04894638-cbbe-4523-9d2a-7c2a7853863d",
   "metadata": {},
   "source": [
    "The classifier’s predictions, as well as the actual class of each data point as diabetic or non-diabetic are plotted on Figures 5 to 10. Each combination of two variables is plotted to best visualize the clusters of diabetic and non-diabetic data points. "
   ]
  },
  {
   "cell_type": "code",
   "execution_count": null,
   "id": "c3934315-328c-4eac-9d68-952a89d168b2",
   "metadata": {},
   "outputs": [],
   "source": [
    "#analysis visualization \n",
    "age_bmi_real <- ggplot(predictions, aes(x = age, y = bmi, color = diabetes, shape = diabetes)) + \n",
    "    geom_point(alpha = 0.4) + \n",
    "    theme(text = element_text(size = 12)) + \n",
    "    xlab(\"Age\") + \n",
    "    ylab(\"BMI\") + \n",
    "    ggtitle(\"Figure 5: Actual Presence of Diabetes in Relation to Age and BMI\")\n",
    "age_bmi_preds <- ggplot(predictions, aes(x = age, y = bmi, color = .pred_class, shape = .pred_class)) + \n",
    "    geom_point(alpha = 0.4) + \n",
    "    theme(text = element_text(size = 12)) + \n",
    "    xlab(\"Age\") + \n",
    "    ylab(\"BMI\") + \n",
    "    ggtitle(\"Figure 6: Predicted Presence of Diabetes in Relation to Age and BMI\")\n",
    "age_bmi_real\n",
    "age_bmi_preds\n",
    "bgl_bmi_real <- ggplot(predictions, aes(x = blood_glucose_level, y = bmi, color = diabetes, shape = diabetes)) + \n",
    "    geom_point(alpha = 0.4) + \n",
    "    theme(text = element_text(size = 12)) + \n",
    "    xlab(\"Blood Glucose Level\") + \n",
    "    ylab(\"BMI\") + \n",
    "    ggtitle(\"Figure 7: Actual Presence of Diabetes in Relation to Blood Glucose Level and BMI\")\n",
    "bgl_bmi_preds <- ggplot(predictions, aes(x = blood_glucose_level, y = bmi, color = .pred_class, shape = .pred_class)) + \n",
    "    geom_point(alpha = 0.4) + \n",
    "    theme(text = element_text(size = 12)) + \n",
    "    xlab(\"Blood Glucose Level\") + \n",
    "    ylab(\"BMI\") + \n",
    "    ggtitle(\"Figure 8: Predicted Presence of Diabetes in Relation to Blood Glucose Level and BMI\")\n",
    "bgl_bmi_real\n",
    "bgl_bmi_preds\n",
    "bgl_age_real <- ggplot(predictions, aes(x = age, y = blood_glucose_level, color = diabetes, shape = diabetes)) + \n",
    "    geom_point(alpha = 0.4) + \n",
    "    theme(text = element_text(size = 12)) + \n",
    "    xlab(\"Age\") + \n",
    "    ylab(\"Blood Glucose Level\") + \n",
    "    ggtitle(\"Figure 9: Actual Presence of Diabetes in Relation to Age and Blood Glucose Level\")\n",
    "bgl_age_preds <- ggplot(predictions, aes(x = age, y = blood_glucose_level, color = .pred_class, shape = .pred_class)) + \n",
    "    geom_point(alpha = 0.4) + \n",
    "    theme(text = element_text(size = 12)) + \n",
    "    xlab(\"Age\") + \n",
    "    ylab(\"Blood Glucose Level\") + \n",
    "    ggtitle(\"Figure 10: Predicted Presence of Diabetes in Relation to Age and Blood Glucose Level\")\n",
    "bgl_age_real\n",
    "bgl_age_preds"
   ]
  },
  {
   "cell_type": "markdown",
   "id": "604dba13-9ea4-4a87-a6c4-69b1aa200e86",
   "metadata": {},
   "source": [
    "**Discussion**"
   ]
  },
  {
   "cell_type": "markdown",
   "id": "f4dfd21d-8b7b-40a3-a7a4-3ea9f7ad8d9d",
   "metadata": {},
   "source": [
    "**Summarize what you found**\n",
    "\n",
    "A KNN classifier model was created to predict patients as diabetic or non-diabetic using BMI, age, and glucose levels as predictors. After performing various codes and testing k values ranging from 1 to 100, the optimal k value (that maximized accuracy) was found to be 46. Next, a workflow using this k value was created and trained on the downsampled training dataset. To assess how well the model predicts diabetes cases, a confusion matrix was generated to compute performance metrics such as accuracy, precision, and recall. The following was found:  \n",
    "\n",
    "Accuracy - 79%, Precision - 28%, Recall - 86%.  \n",
    "\n",
    "Since we built a classifier to predict diabetes status where it is ‘non-diabetic’ 91% of the time, an accuracy of 79% is not sufficient (it just mainly guesses ‘non-diabetic’). However, it is also important to consider precision and recall.\n",
    "\n",
    "The low precision of the model (28%) can be observed in Figures 5 to 10. As demonstrated by these figures, the model tends to make a large number of false positive predictions, classifying data points near the existing clusters of diabetic data points as diabetic when they are in fact non-diabetic. In effect, it overestimates the size of the regions which should be classified as diabetic. This is likely due to the fact that the non-diabetic data points in the training data were downsampled such that there was an equal proportion of both outcomes, resulting in diabetic data points further from the cluster having a disproportionate impact on the classifier’s predictions. A possible method of mitigating this may be to retain more of the non-diabetic data points in the training set such that the ratio of non-diabetic to diabetic points is greater than 1:1. This may decrease the number of false positives by reducing the effect of outlier diabetic data points on predictions. \n",
    "\n",
    "Although a low precision is not ideal, being falsely diagnosed as diabetic likely will not have significantly negative effects on a person's health. In contrast, a high recall is much more important, as those with diabetes need to be identified and treated as soon as possible. A recall of 86% seems relatively good, but considering our classification problem type, it is not very impressive. A significant number of cases are still being classified as false negatives. This has serious consequences as diabetics must identify their illness in a timely manner to receive proper treatment.  \n",
    "\n",
    "In accordance with the histograms/scatterplots generated, BMI was found to be a weak predictor of diabetes (no relationship), while age and glucose levels showed a positive correlation with diabetes. \n",
    "\n"
   ]
  },
  {
   "cell_type": "markdown",
   "id": "6108e500-87a1-420a-9a2b-10a4de6958a0",
   "metadata": {},
   "source": [
    "**Discuss whether this is what you expected to find?**\n",
    "\n",
    "Although we were able to predict patients' diabetes status with some certainty, we expected to have a much higher accuracy. However, our results make sense after reflection on our coding methods. We could only run a cross-validation of 5 due to computational power limitations. If we could have chosen 10 instead, our accuracy estimate may have been better with a lower standard error. This would have led us to potentially find a new k value. Additionally, BMI was not a good predictor of diabetes, leaving us only two good predictors: Age and glucose levels. Having three strong predictors is ideal and could have led to more accurate results. \n"
   ]
  },
  {
   "cell_type": "markdown",
   "id": "a5df2d8b-b795-4f56-b6d0-4c88e3940436",
   "metadata": {},
   "source": [
    "**Discuss what impact could such findings have?**\n",
    "\n",
    "The findings from this study have the potential to significantly influence various aspects of healthcare and individual wellness. Firstly, they can improve screening and early diagnosis. By accurately identifying individuals at a higher risk of diabetes based on age, BMI, and blood glucose levels, healthcare systems can implement targeted screening strategies. Early diagnosis enables timely interventions, which may slow the progression of diabetes and reduce associated complications. Additionally, these insights allow physicians to offer personalized treatment approaches. Understanding how these key variables correlate with diabetes risk aids in the development of tailored treatment plans, enhancing their effectiveness and improving patient outcomes. Furthermore, the research informs preventive healthcare measures. High-risk individuals, for instance, can receive counseling on lifestyle modifications such as diet and exercise to mitigate their risk or delay the onset of diabetes.  \n",
    "\n",
    "Overall, this research underscores the critical role of personalized medicine and preventive care in managing and combating diabetes, with profound implications for both individual patient care and broader public health strategies.\n",
    "\n"
   ]
  },
  {
   "cell_type": "markdown",
   "id": "364056e6-8276-436a-b439-0748f83ac907",
   "metadata": {},
   "source": [
    "**Discuss what future questions could this lead to?**\n",
    "\n",
    "Building on the first study's identification of age, BMI, and blood glucose levels as diabetes predictors, further investigations might examine the interactions between genetic predispositions and these variables, evaluating how they jointly affect the likelihood of developing diabetes. Deeper understanding of these metrics' dynamic link with the course of diabetes might be possible by a longitudinal research tracking changes in these metrics over time. It is also critical to investigate more how various demographics, such as socioeconomic position and ethnicity, impact the prediction power of these factors. Furthermore, the integration of cutting-edge technology such as artificial intelligence (AI) and continuous glucose monitoring has the potential to transform diabetes management and early diagnosis, resulting in customized treatment regimens and preventive measures. This has the potential to improve patient care both individually and inform national health policies that eventually aim to lower the worldwide burden of diabetes.\n"
   ]
  },
  {
   "cell_type": "markdown",
   "id": "4a951b8f-c9d4-4bd3-a7f8-342dc97f29d9",
   "metadata": {},
   "source": [
    "**References**"
   ]
  },
  {
   "cell_type": "markdown",
   "id": "48412dab-516b-4bc1-b088-a67befa56184",
   "metadata": {},
   "source": [
    "Abdullah, A., Peeters, A., de Courten, M., & Stoelwinder, J. (2010). The magnitude of association between overweight and obesity and the risk of diabetes: A meta-analysis of prospective cohort studies. *Diabetes Research and Clinical Practice, 89*(3), 309-319. https://doi.org/10.1016/j.diabres.2010.04.012  \n",
    "\n",
    "Mordarska, K., & Godziejewska-Zawada, M. (2017). Diabetes in the elderly. *Przegla̜d Menopauzalny, 16*(2), 38-43. https://doi.org/10.5114/pm.2017.68589  \n",
    "\n",
    "Mustafa, M. (2023). *Diabetes prediction dataset*. Kaggle. https://www.kaggle.com/datasets/iammustafatz/diabetes-prediction-dataset\n",
    "\n",
    "The DECODE-DECODA Study Group, on behalf of the European Diabetes Epidemiology Group. & and the International Diabetes Epidemiology Group. (2003). Age, body mass index and Type 2 diabetes: Associations modified by ethnicity. *Diabetologia, 46*(8), 1063-1070. https://doi.org/10.1007/s00125-003-1158-9"
   ]
  },
  {
   "cell_type": "code",
   "execution_count": null,
   "id": "e921fa80-0798-4c99-b3a3-5b8525853efd",
   "metadata": {},
   "outputs": [],
   "source": []
  }
 ],
 "metadata": {
  "kernelspec": {
   "display_name": "R",
   "language": "R",
   "name": "ir"
  },
  "language_info": {
   "codemirror_mode": "r",
   "file_extension": ".r",
   "mimetype": "text/x-r-source",
   "name": "R",
   "pygments_lexer": "r",
   "version": "4.3.1"
  }
 },
 "nbformat": 4,
 "nbformat_minor": 5
}
