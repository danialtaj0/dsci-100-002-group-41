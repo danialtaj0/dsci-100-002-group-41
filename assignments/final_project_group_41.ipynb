{
 "cells": [
  {
   "cell_type": "markdown",
   "id": "dcb87008-33d1-4886-892b-2ed028f21998",
   "metadata": {},
   "source": [
    "**Predicting Presence of Diabetes with Age, BMI, and Blood Sugar Level**"
   ]
  },
  {
   "cell_type": "markdown",
   "id": "43ff4775-bc24-4679-81e7-6f562798c281",
   "metadata": {},
   "source": [
    "**Introduction:**\n",
    "\n",
    "\n",
    "Diabetes is a chronic disease that affects the body's ability to turn food into energy. Normally after consumption, glucose is released into the bloodstream causing the pancreas to release insulin. This provides a signal so that our cells can utilize the newly acquired blood sugar for energy. Diabetics, however, are unable to produce insulin or cannot utilize it effectively, leading to major health problems. Unfortunately, many people suffer from this health problem.\n",
    "\n",
    "This project aims to answer the question: can diabetes in an individual be predicted accurately using their age, BMI, and blood glucose level?\n",
    "\n",
    "The diabetes prediction data set contains medical information about patients' diabetes status (positive or negative) and other pertinent health information. There are 9 columns (containing categorical and numerical data): age, gender, BMI, hypertension, heart disease, smoking history, HbA1c level, blood glucose level, and diabetes status. In total, there are 100,000 participants and thus 100,000 rows available. "
   ]
  },
  {
   "cell_type": "markdown",
   "id": "b69fb137-9a37-4ad7-acf6-b58a131a81ec",
   "metadata": {},
   "source": [
    "**Methods & Results**"
   ]
  },
  {
   "cell_type": "code",
   "execution_count": 1,
   "id": "55b42412-197d-4d32-8e8b-303eb80585fe",
   "metadata": {},
   "outputs": [
    {
     "name": "stderr",
     "output_type": "stream",
     "text": [
      "Warning message:\n",
      "“package ‘ggplot2’ was built under R version 4.3.2”\n",
      "── \u001b[1mAttaching core tidyverse packages\u001b[22m ──────────────────────── tidyverse 2.0.0 ──\n",
      "\u001b[32m✔\u001b[39m \u001b[34mdplyr    \u001b[39m 1.1.3     \u001b[32m✔\u001b[39m \u001b[34mreadr    \u001b[39m 2.1.4\n",
      "\u001b[32m✔\u001b[39m \u001b[34mforcats  \u001b[39m 1.0.0     \u001b[32m✔\u001b[39m \u001b[34mstringr  \u001b[39m 1.5.0\n",
      "\u001b[32m✔\u001b[39m \u001b[34mggplot2  \u001b[39m 3.5.0     \u001b[32m✔\u001b[39m \u001b[34mtibble   \u001b[39m 3.2.1\n",
      "\u001b[32m✔\u001b[39m \u001b[34mlubridate\u001b[39m 1.9.2     \u001b[32m✔\u001b[39m \u001b[34mtidyr    \u001b[39m 1.3.0\n",
      "\u001b[32m✔\u001b[39m \u001b[34mpurrr    \u001b[39m 1.0.2     \n",
      "── \u001b[1mConflicts\u001b[22m ────────────────────────────────────────── tidyverse_conflicts() ──\n",
      "\u001b[31m✖\u001b[39m \u001b[34mdplyr\u001b[39m::\u001b[32mfilter()\u001b[39m masks \u001b[34mstats\u001b[39m::filter()\n",
      "\u001b[31m✖\u001b[39m \u001b[34mdplyr\u001b[39m::\u001b[32mlag()\u001b[39m    masks \u001b[34mstats\u001b[39m::lag()\n",
      "\u001b[36mℹ\u001b[39m Use the conflicted package (\u001b[3m\u001b[34m<http://conflicted.r-lib.org/>\u001b[39m\u001b[23m) to force all conflicts to become errors\n",
      "── \u001b[1mAttaching packages\u001b[22m ────────────────────────────────────── tidymodels 1.1.1 ──\n",
      "\n",
      "\u001b[32m✔\u001b[39m \u001b[34mbroom       \u001b[39m 1.0.5     \u001b[32m✔\u001b[39m \u001b[34mrsample     \u001b[39m 1.2.0\n",
      "\u001b[32m✔\u001b[39m \u001b[34mdials       \u001b[39m 1.2.0     \u001b[32m✔\u001b[39m \u001b[34mtune        \u001b[39m 1.1.2\n",
      "\u001b[32m✔\u001b[39m \u001b[34minfer       \u001b[39m 1.0.5     \u001b[32m✔\u001b[39m \u001b[34mworkflows   \u001b[39m 1.1.3\n",
      "\u001b[32m✔\u001b[39m \u001b[34mmodeldata   \u001b[39m 1.2.0     \u001b[32m✔\u001b[39m \u001b[34mworkflowsets\u001b[39m 1.0.1\n",
      "\u001b[32m✔\u001b[39m \u001b[34mparsnip     \u001b[39m 1.1.1     \u001b[32m✔\u001b[39m \u001b[34myardstick   \u001b[39m 1.2.0\n",
      "\u001b[32m✔\u001b[39m \u001b[34mrecipes     \u001b[39m 1.0.8     \n",
      "\n",
      "── \u001b[1mConflicts\u001b[22m ───────────────────────────────────────── tidymodels_conflicts() ──\n",
      "\u001b[31m✖\u001b[39m \u001b[34mscales\u001b[39m::\u001b[32mdiscard()\u001b[39m masks \u001b[34mpurrr\u001b[39m::discard()\n",
      "\u001b[31m✖\u001b[39m \u001b[34mdplyr\u001b[39m::\u001b[32mfilter()\u001b[39m   masks \u001b[34mstats\u001b[39m::filter()\n",
      "\u001b[31m✖\u001b[39m \u001b[34mrecipes\u001b[39m::\u001b[32mfixed()\u001b[39m  masks \u001b[34mstringr\u001b[39m::fixed()\n",
      "\u001b[31m✖\u001b[39m \u001b[34mdplyr\u001b[39m::\u001b[32mlag()\u001b[39m      masks \u001b[34mstats\u001b[39m::lag()\n",
      "\u001b[31m✖\u001b[39m \u001b[34myardstick\u001b[39m::\u001b[32mspec()\u001b[39m masks \u001b[34mreadr\u001b[39m::spec()\n",
      "\u001b[31m✖\u001b[39m \u001b[34mrecipes\u001b[39m::\u001b[32mstep()\u001b[39m   masks \u001b[34mstats\u001b[39m::step()\n",
      "\u001b[34m•\u001b[39m Use suppressPackageStartupMessages() to eliminate package startup messages\n",
      "\n"
     ]
    }
   ],
   "source": [
    "#loading packages\n",
    "library(tidyverse)\n",
    "library(tidymodels)\n",
    "library(dplyr)\n",
    "#library(themis)"
   ]
  },
  {
   "cell_type": "code",
   "execution_count": 2,
   "id": "a742598c-7ba6-4615-9f26-7aeeca961147",
   "metadata": {},
   "outputs": [
    {
     "name": "stderr",
     "output_type": "stream",
     "text": [
      "\u001b[1mRows: \u001b[22m\u001b[34m100000\u001b[39m \u001b[1mColumns: \u001b[22m\u001b[34m9\u001b[39m\n",
      "\u001b[36m──\u001b[39m \u001b[1mColumn specification\u001b[22m \u001b[36m────────────────────────────────────────────────────────\u001b[39m\n",
      "\u001b[1mDelimiter:\u001b[22m \",\"\n",
      "\u001b[31mchr\u001b[39m (2): gender, smoking_history\n",
      "\u001b[32mdbl\u001b[39m (7): age, hypertension, heart_disease, bmi, HbA1c_level, blood_glucose_l...\n",
      "\n",
      "\u001b[36mℹ\u001b[39m Use `spec()` to retrieve the full column specification for this data.\n",
      "\u001b[36mℹ\u001b[39m Specify the column types or set `show_col_types = FALSE` to quiet this message.\n"
     ]
    },
    {
     "data": {
      "text/html": [
       "<table class=\"dataframe\">\n",
       "<caption>A tibble: 6 × 9</caption>\n",
       "<thead>\n",
       "\t<tr><th scope=col>gender</th><th scope=col>age</th><th scope=col>hypertension</th><th scope=col>heart_disease</th><th scope=col>smoking_history</th><th scope=col>bmi</th><th scope=col>HbA1c_level</th><th scope=col>blood_glucose_level</th><th scope=col>diabetes</th></tr>\n",
       "\t<tr><th scope=col>&lt;chr&gt;</th><th scope=col>&lt;dbl&gt;</th><th scope=col>&lt;dbl&gt;</th><th scope=col>&lt;dbl&gt;</th><th scope=col>&lt;chr&gt;</th><th scope=col>&lt;dbl&gt;</th><th scope=col>&lt;dbl&gt;</th><th scope=col>&lt;dbl&gt;</th><th scope=col>&lt;fct&gt;</th></tr>\n",
       "</thead>\n",
       "<tbody>\n",
       "\t<tr><td>Female</td><td>80</td><td>0</td><td>1</td><td>never  </td><td>25.19</td><td>6.6</td><td>140</td><td>0</td></tr>\n",
       "\t<tr><td>Female</td><td>20</td><td>0</td><td>0</td><td>never  </td><td>27.32</td><td>6.6</td><td> 85</td><td>0</td></tr>\n",
       "\t<tr><td>Female</td><td>44</td><td>0</td><td>0</td><td>never  </td><td>19.31</td><td>6.5</td><td>200</td><td>1</td></tr>\n",
       "\t<tr><td>Female</td><td>79</td><td>0</td><td>0</td><td>No Info</td><td>23.86</td><td>5.7</td><td> 85</td><td>0</td></tr>\n",
       "\t<tr><td>Female</td><td>32</td><td>0</td><td>0</td><td>never  </td><td>27.32</td><td>5.0</td><td>100</td><td>0</td></tr>\n",
       "\t<tr><td>Female</td><td>53</td><td>0</td><td>0</td><td>never  </td><td>27.32</td><td>6.1</td><td> 85</td><td>0</td></tr>\n",
       "</tbody>\n",
       "</table>\n"
      ],
      "text/latex": [
       "A tibble: 6 × 9\n",
       "\\begin{tabular}{lllllllll}\n",
       " gender & age & hypertension & heart\\_disease & smoking\\_history & bmi & HbA1c\\_level & blood\\_glucose\\_level & diabetes\\\\\n",
       " <chr> & <dbl> & <dbl> & <dbl> & <chr> & <dbl> & <dbl> & <dbl> & <fct>\\\\\n",
       "\\hline\n",
       "\t Female & 80 & 0 & 1 & never   & 25.19 & 6.6 & 140 & 0\\\\\n",
       "\t Female & 20 & 0 & 0 & never   & 27.32 & 6.6 &  85 & 0\\\\\n",
       "\t Female & 44 & 0 & 0 & never   & 19.31 & 6.5 & 200 & 1\\\\\n",
       "\t Female & 79 & 0 & 0 & No Info & 23.86 & 5.7 &  85 & 0\\\\\n",
       "\t Female & 32 & 0 & 0 & never   & 27.32 & 5.0 & 100 & 0\\\\\n",
       "\t Female & 53 & 0 & 0 & never   & 27.32 & 6.1 &  85 & 0\\\\\n",
       "\\end{tabular}\n"
      ],
      "text/markdown": [
       "\n",
       "A tibble: 6 × 9\n",
       "\n",
       "| gender &lt;chr&gt; | age &lt;dbl&gt; | hypertension &lt;dbl&gt; | heart_disease &lt;dbl&gt; | smoking_history &lt;chr&gt; | bmi &lt;dbl&gt; | HbA1c_level &lt;dbl&gt; | blood_glucose_level &lt;dbl&gt; | diabetes &lt;fct&gt; |\n",
       "|---|---|---|---|---|---|---|---|---|\n",
       "| Female | 80 | 0 | 1 | never   | 25.19 | 6.6 | 140 | 0 |\n",
       "| Female | 20 | 0 | 0 | never   | 27.32 | 6.6 |  85 | 0 |\n",
       "| Female | 44 | 0 | 0 | never   | 19.31 | 6.5 | 200 | 1 |\n",
       "| Female | 79 | 0 | 0 | No Info | 23.86 | 5.7 |  85 | 0 |\n",
       "| Female | 32 | 0 | 0 | never   | 27.32 | 5.0 | 100 | 0 |\n",
       "| Female | 53 | 0 | 0 | never   | 27.32 | 6.1 |  85 | 0 |\n",
       "\n"
      ],
      "text/plain": [
       "  gender age hypertension heart_disease smoking_history bmi   HbA1c_level\n",
       "1 Female 80  0            1             never           25.19 6.6        \n",
       "2 Female 20  0            0             never           27.32 6.6        \n",
       "3 Female 44  0            0             never           19.31 6.5        \n",
       "4 Female 79  0            0             No Info         23.86 5.7        \n",
       "5 Female 32  0            0             never           27.32 5.0        \n",
       "6 Female 53  0            0             never           27.32 6.1        \n",
       "  blood_glucose_level diabetes\n",
       "1 140                 0       \n",
       "2  85                 0       \n",
       "3 200                 1       \n",
       "4  85                 0       \n",
       "5 100                 0       \n",
       "6  85                 0       "
      ]
     },
     "metadata": {},
     "output_type": "display_data"
    }
   ],
   "source": [
    "#set seed, loading dataset, and splitting into train and test sets\n",
    "\n",
    "set.seed(1)\n",
    "\n",
    "url <- \"https://raw.githubusercontent.com/danialtaj0/Dataset/main/diabetes_prediction_dataset.csv\"\n",
    "diabetes_data <- read_csv(url) |>\n",
    "                 mutate(diabetes = as_factor(diabetes))\n",
    "\n",
    "diabetes_split <- initial_split(diabetes_data, prop = 0.75, strata = diabetes)\n",
    "diabetes_train <- training(diabetes_split)\n",
    "diabetes_test <- testing(diabetes_split)\n",
    "head(diabetes_train)"
   ]
  },
  {
   "cell_type": "markdown",
   "id": "35759338-03a9-4dc5-baab-c1a55f2988c2",
   "metadata": {},
   "source": [
    "class_distribution <- diabetes_train |>\n",
    "  group_by(diabetes) |>\n",
    "  summarise(Count = n())\n",
    "\n",
    "class_distribution\n",
    "\n",
    "predictor_means <- diabetes_train |>\n",
    "  summarise(\n",
    "    mean_bmi = mean(bmi, na.rm = TRUE),\n",
    "    mean_age = mean(age, na.rm = TRUE),\n",
    "    mean_blood_glucose_level = mean(blood_glucose_level, na.rm = TRUE)\n",
    "  )\n",
    "\n",
    "predictor_means\n",
    "\n",
    "# Filtering rows where there is missing data in any of the specified columns\n",
    "rows_with_missing_data <- diabetes_train |>\n",
    "  filter(is.na(bmi) | is.na(age) | is.na(blood_glucose_level) | is.na(diabetes))\n",
    "\n",
    "\n",
    "print(rows_with_missing_data)\n",
    "\n",
    "# Count the number of rows with missing data\n",
    "num_rows_with_missing_data <- nrow(rows_with_missing_data)\n",
    "\n",
    "# Print the count\n",
    "missing_data <- tibble(n_rows_missing_data = num_rows_with_missing_data)\n",
    "missing_data"
   ]
  },
  {
   "cell_type": "markdown",
   "id": "0f8cc78c-3c58-4287-a2e4-c98a21ab4889",
   "metadata": {},
   "source": [
    "#making histograms and scatterplot\n",
    "options(repr.plot.height = 5, repr.plot.width = 10)\n",
    "\n",
    "bmi_dist <- ggplot(diabetes_train, aes(x = bmi)) + \n",
    "    geom_histogram() + \n",
    "    theme(text = element_text(size = 12)) + \n",
    "    ggtitle(\"Distribution of BMI\") \n",
    "\n",
    "blood_glucose_dist <- ggplot(diabetes_train, aes(x = blood_glucose_level)) + \n",
    "    geom_histogram() + \n",
    "    theme(text = element_text(size = 12)) + \n",
    "    ggtitle(\"Distribution of Blood Glucose Level\")\n",
    "\n",
    "age_dist <- ggplot(diabetes_train, aes(x = age)) + \n",
    "    geom_histogram() + \n",
    "    theme(text = element_text(size = 12)) + \n",
    "    ggtitle(\"Distribution of Age\")\n",
    "\n",
    "age_bmi <- ggplot(diabetes_train, aes(x = age, y = bmi, color = diabetes, shape = diabetes)) + \n",
    "    geom_point() + \n",
    "    theme(text = element_text(size = 12)) + \n",
    "    ggtitle(\"Presence of Diabetes in Relation to Age and BMI\")\n",
    "\n",
    "bmi_dist\n",
    "blood_glucose_dist\n",
    "age_dist\n",
    "age_bmi"
   ]
  },
  {
   "cell_type": "code",
   "execution_count": null,
   "id": "271832c6-1c80-4c02-bbaa-b9d0a5699448",
   "metadata": {},
   "outputs": [],
   "source": [
    "#preforming cross validation to find the optimal k value\n",
    "diabetes_recipe <- recipe(diabetes ~ bmi + age + blood_glucose_level, data = diabetes_train) |>\n",
    "    step_scale(all_predictors()) |> \n",
    "    step_center(all_predictors()) #|> \n",
    "    #step_upsample(over_ratio = 1, skip = FALSE) \n",
    "\n",
    "diabetes_spec <- nearest_neighbor(weight_func = \"rectangular\", neighbors = tune()) |> \n",
    "    set_engine(\"kknn\") |> \n",
    "    set_mode(\"classification\") \n",
    "\n",
    "diabetes_vfold <- vfold_cv(diabetes_train, v = 2, strata = diabetes)\n",
    "k_vals = tibble(neighbors = 1:10) \n",
    "\n",
    "cv_results <- workflow() |> \n",
    "    add_model(diabetes_spec) |> \n",
    "    add_recipe(diabetes_recipe) |> \n",
    "    tune_grid(resamples = diabetes_vfold, grid = k_vals) |> \n",
    "    collect_metrics() |> \n",
    "    filter(.metric == \"accuracy\") |> \n",
    "    select(neighbors, mean) \n",
    "cv_results"
   ]
  },
  {
   "cell_type": "markdown",
   "id": "604dba13-9ea4-4a87-a6c4-69b1aa200e86",
   "metadata": {},
   "source": [
    "**Discussion**"
   ]
  },
  {
   "cell_type": "markdown",
   "id": "4a951b8f-c9d4-4bd3-a7f8-342dc97f29d9",
   "metadata": {},
   "source": [
    "**References**"
   ]
  },
  {
   "cell_type": "code",
   "execution_count": null,
   "id": "823a4cd1-2f13-4d30-b151-e8d665740599",
   "metadata": {},
   "outputs": [],
   "source": []
  }
 ],
 "metadata": {
  "kernelspec": {
   "display_name": "R",
   "language": "R",
   "name": "ir"
  },
  "language_info": {
   "codemirror_mode": "r",
   "file_extension": ".r",
   "mimetype": "text/x-r-source",
   "name": "R",
   "pygments_lexer": "r",
   "version": "4.3.1"
  }
 },
 "nbformat": 4,
 "nbformat_minor": 5
}
