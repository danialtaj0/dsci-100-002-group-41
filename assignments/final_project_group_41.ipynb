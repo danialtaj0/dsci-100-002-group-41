{
 "cells": [
  {
   "cell_type": "markdown",
   "id": "dcb87008-33d1-4886-892b-2ed028f21998",
   "metadata": {},
   "source": [
    "**Predicting Presence of Diabetes with Age, BMI, and Blood Sugar Level**"
   ]
  },
  {
   "cell_type": "markdown",
   "id": "43ff4775-bc24-4679-81e7-6f562798c281",
   "metadata": {},
   "source": [
    "**Introduction:**\n",
    "\n",
    "\n",
    "Diabetes is a chronic disease that affects the body's ability to turn food into energy. Normally after consumption, glucose is released into the bloodstream causing the pancreas to release insulin. This provides a signal so that our cells can utilize the newly acquired blood sugar for energy. Diabetics, however, are unable to produce insulin or cannot utilize it effectively, leading to major health problems. Unfortunately, many people suffer from this health problem.\n",
    "\n",
    "This project aims to answer the question: can diabetes in an individual be predicted accurately using their age, BMI, and blood glucose level?\n",
    "\n",
    "The diabetes prediction data set contains medical information about patients' diabetes status (positive or negative) and other pertinent health information. There are 9 columns (containing categorical and numerical data): age, gender, BMI, hypertension, heart disease, smoking history, HbA1c level, blood glucose level, and diabetes status. In total, there are 100,000 participants and thus 100,000 rows available. "
   ]
  },
  {
   "cell_type": "markdown",
   "id": "d63a4216-8ffa-4b05-a081-36aef455addb",
   "metadata": {},
   "source": []
  }
 ],
 "metadata": {
  "kernelspec": {
   "display_name": "R",
   "language": "R",
   "name": "ir"
  },
  "language_info": {
   "codemirror_mode": "r",
   "file_extension": ".r",
   "mimetype": "text/x-r-source",
   "name": "R",
   "pygments_lexer": "r",
   "version": "4.3.1"
  }
 },
 "nbformat": 4,
 "nbformat_minor": 5
}
