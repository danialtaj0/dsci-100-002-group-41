{
 "cells": [
  {
   "cell_type": "markdown",
   "id": "dcb87008-33d1-4886-892b-2ed028f21998",
   "metadata": {},
   "source": [
    "**Predicting Presence of Diabetes with Age, BMI, and Blood Sugar Level**"
   ]
  },
  {
   "cell_type": "markdown",
   "id": "43ff4775-bc24-4679-81e7-6f562798c281",
   "metadata": {},
   "source": [
    "**Introduction:**\n",
    "\n",
    "\n",
    "Diabetes is a chronic disease that affects the body's ability to turn food into energy. Normally after consumption, glucose is released into the bloodstream causing the pancreas to release insulin. This provides a signal so that our cells can utilize the newly acquired blood sugar for energy. Diabetics, however, are unable to produce insulin or cannot utilize it effectively, leading to major health problems. Unfortunately, many people suffer from this health problem.\n",
    "\n",
    "This project aims to answer the question: can diabetes in an individual be predicted accurately using their age, BMI, and blood glucose level?\n",
    "\n",
    "The diabetes prediction data set contains medical information about patients' diabetes status (positive or negative) and other pertinent health information. There are 9 columns (containing categorical and numerical data): age, gender, BMI, hypertension, heart disease, smoking history, HbA1c level, blood glucose level, and diabetes status. In total, there are 100,000 participants and thus 100,000 rows available. "
   ]
  },
  {
   "cell_type": "markdown",
   "id": "b69fb137-9a37-4ad7-acf6-b58a131a81ec",
   "metadata": {},
   "source": [
    "**Methods & Results**"
   ]
  },
  {
   "cell_type": "markdown",
   "id": "604dba13-9ea4-4a87-a6c4-69b1aa200e86",
   "metadata": {},
   "source": [
    "**Discussion**"
   ]
  },
  {
   "cell_type": "markdown",
   "id": "4a951b8f-c9d4-4bd3-a7f8-342dc97f29d9",
   "metadata": {},
   "source": [
    "**References**"
   ]
  },
  {
   "cell_type": "code",
   "execution_count": null,
   "id": "823a4cd1-2f13-4d30-b151-e8d665740599",
   "metadata": {},
   "outputs": [],
   "source": []
  }
 ],
 "metadata": {
  "kernelspec": {
   "display_name": "R",
   "language": "R",
   "name": "ir"
  },
  "language_info": {
   "codemirror_mode": "r",
   "file_extension": ".r",
   "mimetype": "text/x-r-source",
   "name": "R",
   "pygments_lexer": "r",
   "version": "4.3.1"
  }
 },
 "nbformat": 4,
 "nbformat_minor": 5
}
