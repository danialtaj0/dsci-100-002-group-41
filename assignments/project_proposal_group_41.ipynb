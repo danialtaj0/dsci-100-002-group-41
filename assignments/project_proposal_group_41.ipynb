{
 "cells": [
  {
   "cell_type": "markdown",
   "id": "af29d54e-bfdb-486f-be7c-4b812e83844a",
   "metadata": {},
   "source": [
    "Title"
   ]
  },
  {
   "cell_type": "markdown",
   "id": "6203a73b-a504-4cd5-9d94-1d4b71e7c754",
   "metadata": {},
   "source": [
    "Introduction:"
   ]
  },
  {
   "cell_type": "markdown",
   "id": "d5dda469-a7ac-4824-931e-bab9fe2b193c",
   "metadata": {},
   "source": [
    "Methods:"
   ]
  },
  {
   "cell_type": "markdown",
   "id": "6399a483-8b7e-4b16-983f-d727002fad27",
   "metadata": {},
   "source": [
    "Expected outcomes and significance:"
   ]
  }
 ],
 "metadata": {
  "kernelspec": {
   "display_name": "R",
   "language": "R",
   "name": "ir"
  },
  "language_info": {
   "codemirror_mode": "r",
   "file_extension": ".r",
   "mimetype": "text/x-r-source",
   "name": "R",
   "pygments_lexer": "r",
   "version": "4.3.1"
  }
 },
 "nbformat": 4,
 "nbformat_minor": 5
}
